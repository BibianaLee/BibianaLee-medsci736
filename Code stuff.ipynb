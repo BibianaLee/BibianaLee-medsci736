{
 "cells": [
  {
   "cell_type": "code",
   "execution_count": 47,
   "metadata": {
    "collapsed": false
   },
   "outputs": [],
   "source": [
    "import pandas as pd\n",
    "import glob\n",
    "\n",
    "# This prints the main menu, and prompts for a choice\n",
    "def menu(): \n",
    "#print what options you have\n",
    "    print \"Welcome\"\n",
    "    print \"your options are:\"\n",
    "    print \" \"\n",
    "    print \"1) One file\"\n",
    "    print \"2) Multiple files\"\n",
    "    print \"3) Quit\"\n",
    "    print \" \"\n",
    "    return input (\"Choose your option: \")\n",
    "\n",
    "def one_file_menu():\n",
    "    print \"Would you like a visualisation?\"\n",
    "    print \" \"\n",
    "    print \"1) Yes\"\n",
    "    print \"2) No\"\n",
    "    print \" \"\n",
    "    return input (\"Choose your option: \")\n",
    "\n",
    "\n",
    "    loop = 1\n",
    "    choice = 0\n",
    "    while loop == 1:\n",
    "        choice = one_file_menu()\n",
    "        if choice == 1:\n",
    "            pass\n",
    "\n",
    "        elif choice == 2:\n",
    "            loop = 0\n"
   ]
  },
  {
   "cell_type": "code",
   "execution_count": 39,
   "metadata": {
    "collapsed": false
   },
   "outputs": [],
   "source": [
    "\n",
    "def one_file (file):\n",
    "    file = open(raw_input(\"Enter Filename: \"),'r')\n",
    "    lines = []\n",
    "    for line in file:\n",
    "        \n",
    "        if not line.strip().startswith(\"#\") and not line.strip() == '':\n",
    "            lines.append(line.rstrip().split(\",\"))\n",
    "    \n",
    "    \n",
    "    ktrans_val = []\n",
    "    time = []\n",
    "    aif = []\n",
    "    difcoef_val = []\n",
    "    pixelen_val = []\n",
    "    pixelstd_val = []\n",
    "\n",
    "    for line in lines:\n",
    "        str1 = ''.join(line)\n",
    "\n",
    "        if str1.find(\"ktrans\") != -1:\n",
    "            ktrans_val.append(line)\n",
    "\n",
    "        elif str1.find(\"difcoef\") != -1:\n",
    "            difcoef_val.append(line)\n",
    "\n",
    "        elif str1.find(\"enhanc(t)\") != -1:\n",
    "            pixelen_val.append(line)\n",
    "\n",
    "        elif str1.find(\"time\") != -1:\n",
    "            time.append(line)\n",
    "\n",
    "        elif str1.find(\"std\") != -1:\n",
    "            pixelstd_val.append(line)\n",
    "\n",
    "        elif str1.find(\"aif\") != -1:\n",
    "            aif.append(line)\n",
    "\n",
    "\n",
    "    ##INPUTS##\n",
    "    #aif \n",
    "\n",
    "    aif_df = pd.DataFrame((aif), #pass list aif into pandas\n",
    "                        index = ['aif']) #label index\n",
    "    aif_df.drop(aif_df[[0]], axis=1, inplace=True) #drop column\n",
    "    aif_df = aif_df.apply(pd.to_numeric) # converting objects to floats\n",
    "\n",
    "\n",
    "    #Time\n",
    "    time_df = pd.DataFrame((time), #pass list time into pandas\n",
    "                        index = ['time (seconds)']) #label index\n",
    "    time_df.drop(time_df[[0]], axis=1, inplace=True) #drop column\n",
    "\n",
    "\n",
    "    ##OUTPUTS## \n",
    "\n",
    "    ##Ktrans Dataframe## \n",
    "    ktrans_df = pd.DataFrame((ktrans_val), #pass the list ktrans_val through pandas \n",
    "                             columns = ['none', 'Mean','STD','Max','Min']) #label the columns \n",
    "    ktrans_df['none'] = ktrans_df['none'].str.split('_') #split the list in the column 'none' by the delimiter \",\"\n",
    "    ktrans_df[['none','Ktrans','ID1','ID2']]= ktrans_df['none'].apply(pd.Series) # split the list in none into columns and label them\n",
    "    ktrans_df = ktrans_df.drop('none', 1) #drop any columns labeled 'none'\n",
    "    ktrans_df = ktrans_df.set_index(['Ktrans', 'ID1','ID2']) #multi index the new columns \n",
    "    ktrans_df = ktrans_df.apply(pd.to_numeric) # converting objects to floats\n",
    "    print ktrans_df\n",
    "\n",
    "\n",
    "    ##Difcoef Dataframe## \n",
    "    difcoef_df = pd.DataFrame((difcoef_val), #pass the list difcoef_val through pandas \n",
    "                             columns = ['none', 'Mean','STD','Max','Min'])#label the columns\n",
    "    difcoef_df['none'] = difcoef_df['none'].str.split('_') #split the list in the column 'none' by the delimiter \",\"\n",
    "    difcoef_df[['none','Difcoef','ID1','ID2']]= difcoef_df['none'].apply(pd.Series) # split the list in none into columns and label them\n",
    "    difcoef_df = difcoef_df.set_index(['Difcoef', 'ID1','ID2']) #drop any columns labeled 'none'\n",
    "    difcoef_df = difcoef_df.drop('none', 1) #multi index the new columns \n",
    "    difcoef_df = difcoef_df.apply(pd.to_numeric) # converting objects to floats\n",
    "    print difcoef_df\n",
    "\n",
    "    ##Pixel Enchancement values Dataframe## \n",
    "    enhan_df = pd.DataFrame(pixelen_val) #pass the list pixelen_val through pandas\n",
    "    enhan_df[0] = enhan_df[0].str.split('_') #split the list in the column 'none' by the delimiter \",\"\n",
    "    enhan_df[['none','Pixel enhancement Ave','ID1','ID2']]= enhan_df[0].apply(pd.Series) # split the list in none into columns and label them\n",
    "    enhan_df.drop(enhan_df.columns[[0]], axis=1, inplace=True) #drop column with the index 0 \n",
    "    enhan_df = enhan_df.set_index(['Pixel enhancement Ave', 'ID1','ID2'])  #multi index the columns\n",
    "    enhan_df = enhan_df.drop('none', 1) #drop any columns labeled 'none'\n",
    "    enhan_df = enhan_df.apply(pd.to_numeric) # converting objects to floats\n",
    "    print enhan_df\n",
    "\n",
    "    ##Pixel Enchancement standard dev Dataframe## \n",
    "    std_df = pd.DataFrame(pixelstd_val) #pass the list pixelstd_val through pandas\n",
    "    std_df[0] = std_df[0].str.split('_') #split the list in the column 'none' by the delimiter \",\"\n",
    "    std_df[['none', 'none','Pixel enhancement STD','ID1','ID2']]= std_df[0].apply(pd.Series) # split the list in none into columns and label them\n",
    "    std_df.drop(std_df.columns[[0]], axis=1, inplace=True) #drop column with the index 0 \n",
    "    std_df = std_df.set_index(['Pixel enhancement STD', 'ID1','ID2']) #multi index the columns\n",
    "    std_df = std_df.drop('none', 1) #drop any columns labeled 'none'\n",
    "    std_df = std_df.apply(pd.to_numeric) # converting objects to floats\"\"\"\n",
    "    print std_df\n",
    "\n",
    "def visualisation (): \n",
    "    pyplot.plot(x_data, y_data)\n",
    "    pyplot.show()\n",
    "    time_df = x_data\n",
    "    "
   ]
  },
  {
   "cell_type": "code",
   "execution_count": 51,
   "metadata": {
    "collapsed": false
   },
   "outputs": [
    {
     "name": "stdout",
     "output_type": "stream",
     "text": [
      "Welcome\n",
      "your options are:\n",
      " \n",
      "1) One file\n",
      "2) Multiple files\n",
      "3) Quit\n",
      " \n",
      "Choose your option: 3\n",
      "----END----\n"
     ]
    }
   ],
   "source": [
    "loop = 1\n",
    "choice = 0\n",
    "while loop == 1:\n",
    "    choice = menu()\n",
    "    if choice == 1:\n",
    "        one_file(file)\n",
    "        one_file_menu()\n",
    "        \n",
    "    elif choice == 2:\n",
    "        pass\n",
    "    \n",
    "    elif choice == 3:\n",
    "        print \"----END----\"\n",
    "        loop = 0\n",
    "\n"
   ]
  },
  {
   "cell_type": "code",
   "execution_count": null,
   "metadata": {
    "collapsed": false
   },
   "outputs": [],
   "source": [
    "print std_df"
   ]
  },
  {
   "cell_type": "code",
   "execution_count": null,
   "metadata": {
    "collapsed": true
   },
   "outputs": [],
   "source": [
    "print"
   ]
  }
 ],
 "metadata": {
  "kernelspec": {
   "display_name": "Python [Root]",
   "language": "python",
   "name": "Python [Root]"
  },
  "language_info": {
   "codemirror_mode": {
    "name": "ipython",
    "version": 2
   },
   "file_extension": ".py",
   "mimetype": "text/x-python",
   "name": "python",
   "nbconvert_exporter": "python",
   "pygments_lexer": "ipython2",
   "version": "2.7.12"
  }
 },
 "nbformat": 4,
 "nbformat_minor": 0
}
